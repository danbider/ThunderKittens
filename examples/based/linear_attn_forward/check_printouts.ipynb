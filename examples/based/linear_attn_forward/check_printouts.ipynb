{
 "cells": [
  {
   "cell_type": "code",
   "execution_count": 56,
   "metadata": {},
   "outputs": [],
   "source": [
    "import torch\n",
    "import os"
   ]
  },
  {
   "cell_type": "code",
   "execution_count": null,
   "metadata": {},
   "outputs": [],
   "source": []
  },
  {
   "cell_type": "code",
   "execution_count": 72,
   "metadata": {},
   "outputs": [],
   "source": [
    "\n",
    "path = \"printouts/\"\n",
    "diff = open(path + \"diff.txt\").read()\n",
    "o_ref = open(path + \"o_ref.txt\").read()\n",
    "o_test = open(path + \"o.txt\").read()\n"
   ]
  },
  {
   "cell_type": "code",
   "execution_count": 73,
   "metadata": {},
   "outputs": [
    {
     "name": "stdout",
     "output_type": "stream",
     "text": [
      "4194304 4194305 4194305\n"
     ]
    }
   ],
   "source": [
    "diff_vals = diff.split()\n",
    "o_ref_vals = o_ref.split(\"\\n\")\n",
    "o_test_vals = o_test.split(\" \")\n",
    "print(f\"{len(diff_vals)} {len(o_ref_vals)} {len(o_test_vals)}\")"
   ]
  },
  {
   "cell_type": "code",
   "execution_count": 74,
   "metadata": {},
   "outputs": [
    {
     "name": "stdout",
     "output_type": "stream",
     "text": [
      "Position: 0\n",
      "diff: -0.000976562\n",
      "o_ref: 0.000976562\n",
      "o_test: 0\n",
      "\n"
     ]
    }
   ],
   "source": [
    "for i in range(len(diff_vals)):\n",
    "    if diff_vals[i] != \"0\":\n",
    "        print(f\"Position: {i}\")\n",
    "        print(f\"diff: {diff_vals[i]}\")\n",
    "        print(f\"o_ref: {o_ref_vals[i]}\")\n",
    "        print(f\"o_test: {o_test_vals[i]}\")\n",
    "        print(\"\")\n",
    "        break"
   ]
  },
  {
   "cell_type": "code",
   "execution_count": 75,
   "metadata": {},
   "outputs": [
    {
     "data": {
      "text/plain": [
       "['0', '0', '0', '0', '0', '0', '0', '0', '0', '0']"
      ]
     },
     "execution_count": 75,
     "metadata": {},
     "output_type": "execute_result"
    }
   ],
   "source": [
    "j = 50000\n",
    "o_test_vals[j:j+10]"
   ]
  },
  {
   "cell_type": "code",
   "execution_count": 76,
   "metadata": {},
   "outputs": [
    {
     "data": {
      "text/plain": [
       "['0', '0', '0', '0', '0', '0', '0', '0', '0', '0']"
      ]
     },
     "execution_count": 76,
     "metadata": {},
     "output_type": "execute_result"
    }
   ],
   "source": [
    "j = 5000\n",
    "o_test_vals[j:j+10]"
   ]
  },
  {
   "cell_type": "code",
   "execution_count": null,
   "metadata": {},
   "outputs": [],
   "source": []
  }
 ],
 "metadata": {
  "kernelspec": {
   "display_name": "Python 3",
   "language": "python",
   "name": "python3"
  },
  "language_info": {
   "codemirror_mode": {
    "name": "ipython",
    "version": 3
   },
   "file_extension": ".py",
   "mimetype": "text/x-python",
   "name": "python",
   "nbconvert_exporter": "python",
   "pygments_lexer": "ipython3",
   "version": "3.8.18"
  }
 },
 "nbformat": 4,
 "nbformat_minor": 2
}
